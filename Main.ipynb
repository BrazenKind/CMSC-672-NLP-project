{
 "cells": [
  {
   "cell_type": "code",
   "execution_count": 1,
   "id": "9a762881",
   "metadata": {},
   "outputs": [
    {
     "name": "stderr",
     "output_type": "stream",
     "text": [
      "C:\\Users\\user\\anaconda3\\envs\\tf3\\lib\\site-packages\\gensim\\similarities\\__init__.py:15: UserWarning: The gensim.similarities.levenshtein submodule is disabled, because the optional Levenshtein package <https://pypi.org/project/python-Levenshtein/> is unavailable. Install Levenhstein (e.g. `pip install python-Levenshtein`) to suppress this warning.\n",
      "  warnings.warn(msg)\n"
     ]
    }
   ],
   "source": [
    "from Preprocessing import *\n",
    "from Models import *\n",
    "import regex as re\n",
    "import numpy as np\n",
    "from numpy import random\n",
    "import pandas as pd\n",
    "from sklearn.model_selection import train_test_split\n",
    "from gensim.models.doc2vec import TaggedDocument\n",
    "from gensim.test.utils import get_tmpfile"
   ]
  },
  {
   "cell_type": "code",
   "execution_count": 2,
   "id": "962e1279",
   "metadata": {},
   "outputs": [],
   "source": [
    "#code to replace the comma separators in our tweet data CSVs with \\t.\n",
    "\n",
    "# with open(('/').join((data_folder, 'misbelief_2_F.txt')), 'r', encoding='UTF-8') as f1, open(('/').join((data_folder, 'misbelief_2_modded.txt')), 'w', encoding='UTF-8') as f2:\n",
    "#     f1.readline()\n",
    "#     f2.write('tweet' + '\\t' + 'tweet_ID')\n",
    "#     f2.write('\\n')\n",
    "#     for line in f1:\n",
    "#         to_write = re.sub('\\t', '', line)\n",
    "#         f2.write(to_write[:-21] + '\\t' + to_write[-20:])"
   ]
  },
  {
   "cell_type": "code",
   "execution_count": 3,
   "id": "e5996e88",
   "metadata": {},
   "outputs": [],
   "source": [
    "p = Preprocessing(covid_tokens = '(covid|corona|virus)', stop_tokens = '[!?.]')"
   ]
  },
  {
   "cell_type": "code",
   "execution_count": 4,
   "id": "f4bad190",
   "metadata": {},
   "outputs": [],
   "source": [
    "temp = 'Experts say some people can feel guilty or anxious about developing COVID-19 as well as having the fear of transmitting the disease to other people. Experts say people can feel guilty after testing positive for COVID-19 as well as anxiety about spreading the illness to others.They say part of those emotions may stem from the fact people sometimes blame themselves for a situation in which they don’t have a lot of control.Experts say people with COVID-19 can ease their feelings of guilt and anxiety by talking to others as well as reducing the amount of news they consume.All data and statistics are based on publicly available data at the time of publication. Some information may be out of date. Visit our coronavirus hub and follow our live updates page for the most recent information on the COVID-19 pandemic.Kristina Finlay Gregory of Darien, Connecticut, wasn’t the one to notify most of her friends about her COVID-19 diagnosis in March.After all, she was holed up in her bedroom for more than 2 weeks, often sleeping up to 16 hours a day. The notification task fell to her husband. Even still, as Finlay Gregory suffered headaches, exhaustion, and flu-like symptoms, many thoughts weighed on her. “I did have a lot of guilt and anxiety, and I felt very isolated,” she told Healthline. “I had a lot of anxiety that me being sick on the early end of things, that people were placing fault or blame on me. It was mostly in my head, but that was a depressing feeling.”It was something Finlay Gregory discussed with her therapist when she recovered.“I FaceTimed with my therapist afterward and kind of shared my issues of guilt and just feeling poorly about possibly causing somebody health problems,” she explained.Many people are fearful about contracting the new coronavirus, but those who do fall ill and develop COVID-19 can also face guilt about potentially transmitting it to others. Healthline asked several experts about these feelings and how those who have them can cope. The emotional struggleStephanie Newman, PhD, a New York psychologist, has counseled a handful of people who have tested positive for COVID-19 as they dealt with feelings of guilt, anxiety, or fear when it comes to transmitting it to others.“People who are quarantining, they’re terrified that they will get a family member sick,” Newman told Healthline. “They worry that vulnerable relatives that live with them could catch it. It’s really hard for people with children, worried that they could get their children sick, even if their children are in a less high-risk group. Of course, none of us knows, which is why the worry is so bad.”That concern can stem from the fact that this virus — which has taken more than 180,000 lives in the United States so far — carries with it so many unknowns.“This virus is confounding to people in the medical field is really the best way to put it,” Newman said. “So because of that, you don’t know what’s coming, it makes people very, very frightened.”A recent study of 402 adults who survived COVID-19 found that 42 percent of them reported experiencing anxiety, with women reporting higher scores for anxiety and depression than men.Roseann Capanna-Hodge, EdD, a licensed professional counselor and certified integrative medicine mental health provider in Connecticut, has worked with many individuals and families affected by the disease.“For those that have tested positive for COVID-19, aside from their worries about their own health, they are concerned that they may afflict others,” Capanna-Hodge told Healthline. She adds that emotions run the gamut from an invincible attitude to pure panic.“For those that have underlying health concerns or live with someone who does, when they test positive with COVID-19, their anxiety is naturally much greater,” she said. The biggest concern Capanna-Hodge has seen is fear of being shunned once others know they have the disease. “I have seen more and more positive-COVID-19 kids get ghosted by other kids once others realize they had it,” she said. “In particular, more and more teens are concealing their exposure for fear of being shut out of their quarantine-related, ever-decreasing circle of friends.”Feelings of guiltExperts tell Healthline that guilt can be a common reaction when matters are out of our hands.“When something happens that’s out of your control completely, it doesn’t feel good to be out of control, so you look for ways that you can explain it. One of the ways is, ‘I must have done something,’” said Lauri Pasch, PhD, professor of psychiatry at the University of California, San Francisco. “You see so much in the news about what you need to do or what people have to do to control this pandemic,” she said. “And I think what happens is, that sends the feeling much more toward guilt or self-blame if you get it, because the feeling is that must be because you didn’t do all the things that were recommended.”This is especially relevant now because of the recommendations surrounding safety precautions, such as mask-wearing and physical distancing.“Since we do know what the recommendations are and what reduces your risk, if you didn’t heed those risks and then you or your family member became infected, then the feelings would make more sense. It would be more logical to feel blame yourself and to feel guilty,” Pasch explained.Pasch, who’s working on a study of hospitalized COVID-19 patients who survived the virus, added, “I haven’t seen people saying they feel guilty. It’s just not a primary thing. They feel sad and anxious, but not guilty.”“They are feeling a lot of different things,” she noted. “They’re feeling significant fatigue, having a lot of continuing medical concerns, and they are expressing a lot of gratefulness for what’s been done by doctors and nurses to save their lives.” Finlay Gregory, who wasn’t hospitalized, says her guilt was related to potentially inconveniencing people or being judged after informing them of her COVID-19 diagnosis.“I would say to her, you actually followed the rules, you actually took care of people. You were, in a way, very considerate and tried to be a good citizen or a good neighbor or friend,” Newman said. “You should know that and not worry about being judged. She did ‘the right thing,’ and she may have helped people not get sick.”Newman explains that guilt can take many forms. It can be persecutory, as in, you punish yourself over and over for something you perceive to be bad or misguided. Survivor guilt is also a real thing.“Some people report experiencing this after emerging from a traumatic event, like a car accident or plane crash,” she said. “They notice that they are relatively unscathed and beat themselves up with guilty thoughts when they see that others have fared worse.”“Guilt that is pervasive and overwhelming can be addressed by talking with an experienced therapist,” Newman added. “A dynamic or analytic therapist will help get to root causes.”How to copePasch says the best way to deal with guilt is to get it out in the open. “It needs the light of day,” she said. “If you’re suffering with that sort of feeling of, like, ‘It’s my fault, I made these things happen to all these other people’ — guilt, envy, jealousy, self-blame, all these dark emotions, they really need the light of day to have successful emotional processing.” Sharing these feelings with a family member, therapist, or even with yourself are helpful.“Like a writing exercise, for example, during which you write about that feeling on Monday, then again on Tuesday, and by Friday you’ve reached a processing point where you’re like, ‘Yeah, it makes sense that I feel that way,’” Pasch explained. “(The guilt) isn’t leading anywhere, it’s not very productive for my future, and how can I turn it into something that helps me to kind of face the next week a little more free in my mind?” she added. Discovering whether there’s something you can learn from the experience is part of the emotional processing.For managing anxiety or fear, Pasch says she talks with her patients about limiting exposure to the media as well as relaxation or deep breathing exercises, such as box breathing (breathing in for five, out for five, for two or three cycles). Newman says it’s possible to achieve perspective when you disconnect from the news cycle.“Giving your mind space to think about something else, to quiet itself, to know your thoughts, to know your baseline — those things help you have some perspective,” she explained. “If you just have the news on all the time, or look at it on your phone all the time, you have no perspective. It makes people very anxious and depressed.”Dr. Mark Mayfield, a licensed professional counselor and founder and CEO of Mayfield Counseling Centers in Colorado Springs, Colorado, says that if you’re struggling with emotions of shame, fear, or guilt, you can seek support through a counselor. “My guess is that you have struggled with those feelings prior to getting sick,” he said. If you can’t connect physically with others who can offer you support, virtual support could also be beneficial. “Virtual support groups are better than nothing. In fact, a virtual support group is actually better than a socially distanced, mask-wearing support group,” Mayfield said. “In a virtual support group, you have the ability to be safe in your home and see people on a screen, listen, read their body language, and their facial features,” he explained.While Newman says you can’t stop the onslaught of difficult emotions such as guilt, you can deal with intense feelings by learning to identify them and replace them with others. “Example: ‘I caused so-and-so to get sick’ replaced with ‘So-and-so refused to wear a mask and I have no control over another person’s actions and choices,’” she said. “Replacing distorted thoughts allows you to break cycles of thinking that have hemmed you in. Cognitive behavioral therapy-focused therapists are experts in this type of practice and can teach strategies to those in need,” Newman said. '"
   ]
  },
  {
   "cell_type": "code",
   "execution_count": 5,
   "id": "bb53562e",
   "metadata": {},
   "outputs": [
    {
     "data": {
      "text/html": [
       "<div>\n",
       "<style scoped>\n",
       "    .dataframe tbody tr th:only-of-type {\n",
       "        vertical-align: middle;\n",
       "    }\n",
       "\n",
       "    .dataframe tbody tr th {\n",
       "        vertical-align: top;\n",
       "    }\n",
       "\n",
       "    .dataframe thead th {\n",
       "        text-align: right;\n",
       "    }\n",
       "</style>\n",
       "<table border=\"1\" class=\"dataframe\">\n",
       "  <thead>\n",
       "    <tr style=\"text-align: right;\">\n",
       "      <th></th>\n",
       "      <th>filename</th>\n",
       "      <th>misbelief</th>\n",
       "    </tr>\n",
       "  </thead>\n",
       "  <tbody>\n",
       "    <tr>\n",
       "      <th>0</th>\n",
       "      <td>misbelief_1.txt</td>\n",
       "      <td>Covid is no deadlier than the flu.</td>\n",
       "    </tr>\n",
       "    <tr>\n",
       "      <th>1</th>\n",
       "      <td>misbelief_2.txt</td>\n",
       "      <td>Covid is caused by 5G towers.</td>\n",
       "    </tr>\n",
       "  </tbody>\n",
       "</table>\n",
       "</div>"
      ],
      "text/plain": [
       "          filename                           misbelief\n",
       "0  misbelief_1.txt  Covid is no deadlier than the flu.\n",
       "1  misbelief_2.txt       Covid is caused by 5G towers."
      ]
     },
     "metadata": {},
     "output_type": "display_data"
    },
    {
     "name": "stdout",
     "output_type": "stream",
     "text": [
      "Covid is no deadlier than the flu.\n",
      "Covid is caused by 5G towers.\n",
      "{'Covid is no deadlier than the flu.': 0, 'Covid is caused by 5G towers.': 1}\n"
     ]
    }
   ],
   "source": [
    "data_folder = 'Misbeliefs'\n",
    "file_data_txt = 'misbelief_indices.txt'\n",
    "\n",
    "file_data = pd.read_csv(('/').join((data_folder, file_data_txt)), delimiter = '\\t')\n",
    "display(file_data)\n",
    "\n",
    "for value in file_data.iloc[:,1]:\n",
    "    print(value)\n",
    "\n",
    "miscons = file_data.iloc[:,1]\n",
    "miscon_IDs = {miscons[i]:i for i in range(0, len(miscons))}\n",
    "print(miscon_IDs)"
   ]
  },
  {
   "cell_type": "code",
   "execution_count": 6,
   "id": "7ceca2f8",
   "metadata": {},
   "outputs": [],
   "source": [
    "train_x = []\n",
    "train_y = []\n",
    "test_x = []\n",
    "test_y = []  "
   ]
  },
  {
   "cell_type": "code",
   "execution_count": 7,
   "id": "97521d8f",
   "metadata": {},
   "outputs": [],
   "source": [
    "for _, row in file_data.iterrows():\n",
    "    temp_x = []\n",
    "    temp_y = []\n",
    "    #display(row)\n",
    "    cur_miscon = row['misbelief']\n",
    "    cur_filename = row['filename']\n",
    "    cur_miscon_ID = miscon_IDs[cur_miscon]\n",
    "    \n",
    "    filepath = ('/').join((data_folder, cur_filename))\n",
    "    #print(filepath)\n",
    "    cur_df = pd.read_csv(filepath, delimiter = '\\t')\n",
    "    \n",
    "    #display(cur_df)\n",
    "    \n",
    "    for tweet in cur_df.iloc[:,0]:\n",
    "        temp_x.append(p.clean_text(tweet))\n",
    "    temp_y = [cur_miscon_ID for i in range(0, len(temp_x))]\n",
    "    temp_train_x, temp_test_x, temp_train_y, temp_test_y = train_test_split(temp_x, temp_y, test_size=0.15, random_state=414, shuffle = True)\n",
    "    \n",
    "    train_x.extend(temp_train_x)\n",
    "    test_x.extend(temp_test_x)\n",
    "    train_y.extend(temp_train_y)\n",
    "    test_y.extend(temp_test_y)"
   ]
  },
  {
   "cell_type": "code",
   "execution_count": 8,
   "id": "c4d5c840",
   "metadata": {},
   "outputs": [],
   "source": [
    "tagged_docs = [TaggedDocument(words = x, tags = str(y)) for x in train_x for y in train_y]"
   ]
  },
  {
   "cell_type": "code",
   "execution_count": 9,
   "id": "6dcbd496",
   "metadata": {},
   "outputs": [],
   "source": [
    "m = models(train_x = train_x, train_y = train_y, label_IDs = {y:x for x, y in miscon_IDs.items()}, test_x = test_x, test_y = test_y)"
   ]
  },
  {
   "cell_type": "code",
   "execution_count": 10,
   "id": "bc2459ea",
   "metadata": {},
   "outputs": [],
   "source": [
    "m.train_Word2Vec()"
   ]
  },
  {
   "cell_type": "code",
   "execution_count": 11,
   "id": "2c58268c",
   "metadata": {},
   "outputs": [],
   "source": [
    "m.train_MaxEnt()"
   ]
  },
  {
   "cell_type": "code",
   "execution_count": 12,
   "id": "d21cc3ac",
   "metadata": {},
   "outputs": [],
   "source": [
    "model = m.save_Word2Vec()"
   ]
  },
  {
   "cell_type": "code",
   "execution_count": 13,
   "id": "48ea29ba",
   "metadata": {},
   "outputs": [
    {
     "name": "stdout",
     "output_type": "stream",
     "text": [
      "Stats for label 0 (Covid is no deadlier than the flu.): \n",
      "\n",
      "Precision:  0.8823529411764706\n",
      "Recall:  1.0\n",
      "F1:  0.9375\n",
      "_______________________________\n",
      "Stats for label 1 (Covid is caused by 5G towers.): \n",
      "\n",
      "Precision:  0.8\n",
      "Recall:  1.0\n",
      "F1:  0.888888888888889\n",
      "_______________________________\n"
     ]
    }
   ],
   "source": [
    "m.test_MaxEnt()"
   ]
  },
  {
   "cell_type": "code",
   "execution_count": 15,
   "id": "8662efcc",
   "metadata": {},
   "outputs": [
    {
     "name": "stdout",
     "output_type": "stream",
     "text": [
      "Label 0 (Covid is no deadlier than the flu.) probability: \n",
      "0.89883\n",
      "Label 1 (Covid is caused by 5G towers.) probability: \n",
      "0.10117\n"
     ]
    }
   ],
   "source": [
    "m.predict_sentence(p.clean_text('my dick is hard'))"
   ]
  },
  {
   "cell_type": "code",
   "execution_count": null,
   "id": "2eb65572",
   "metadata": {},
   "outputs": [],
   "source": []
  }
 ],
 "metadata": {
  "kernelspec": {
   "display_name": "tf3",
   "language": "python",
   "name": "tf3"
  },
  "language_info": {
   "codemirror_mode": {
    "name": "ipython",
    "version": 3
   },
   "file_extension": ".py",
   "mimetype": "text/x-python",
   "name": "python",
   "nbconvert_exporter": "python",
   "pygments_lexer": "ipython3",
   "version": "3.6.12"
  }
 },
 "nbformat": 4,
 "nbformat_minor": 5
}
