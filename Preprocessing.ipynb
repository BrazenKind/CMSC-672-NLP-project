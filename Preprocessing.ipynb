{
 "cells": [
  {
   "cell_type": "code",
   "execution_count": 5,
   "id": "b12a4434",
   "metadata": {},
   "outputs": [],
   "source": [
    "import regex as re"
   ]
  },
  {
   "cell_type": "code",
   "execution_count": 6,
   "id": "7184455c",
   "metadata": {},
   "outputs": [],
   "source": [
    "class Preprocessing:\n",
    "    \n",
    "    def __init__(self, covid_tokens, stop_tokens):\n",
    "        self.c_t = covid_tokens\n",
    "        self.s_t = stop_tokens\n",
    "        \n",
    "    def clean_text(self, text):\n",
    "        no_amp_text = re.sub('&amp;', '', text)\n",
    "        tokenized_words = [re.sub('[^a-zA-Z0-9-]', '', t) for t in no_amp_text.split()]\n",
    "\n",
    "        return list(filter(None, tokenized_words))\n",
    "        \n",
    "    def scrape_sentences(self, text):\n",
    "        sentences = re.split(self.s_t, text)\n",
    "        returned_sentences = []\n",
    "        \n",
    "        for s in sentences:\n",
    "            if re.search(self.c_t, s):\n",
    "                returned_sentences.append(self.clean_text(s))\n",
    "                \n",
    "        return returned_sentences  \n",
    "        "
   ]
  },
  {
   "cell_type": "code",
   "execution_count": null,
   "id": "6c933be8",
   "metadata": {},
   "outputs": [],
   "source": []
  }
 ],
 "metadata": {
  "kernelspec": {
   "display_name": "tf3",
   "language": "python",
   "name": "tf3"
  },
  "language_info": {
   "codemirror_mode": {
    "name": "ipython",
    "version": 3
   },
   "file_extension": ".py",
   "mimetype": "text/x-python",
   "name": "python",
   "nbconvert_exporter": "python",
   "pygments_lexer": "ipython3",
   "version": "3.6.12"
  }
 },
 "nbformat": 4,
 "nbformat_minor": 5
}
