{
 "cells": [
  {
   "cell_type": "code",
   "execution_count": 1,
   "id": "86bb61a9",
   "metadata": {},
   "outputs": [],
   "source": [
    "import tweepy\n",
    "import csv\n",
    "import regex as re\n",
    "import emoji\n",
    "import os"
   ]
  },
  {
   "cell_type": "code",
   "execution_count": 4,
   "id": "2719bc4d",
   "metadata": {},
   "outputs": [],
   "source": [
    "def extract_emojis(s):\n",
    "    return ''.join(c for c in s if c not in emoji.UNICODE_EMOJI['en']).replace('\\u200d', '')\n",
    "\n",
    "def extract_mentions(s):\n",
    "    return ' '.join(c for c in s.split() if c[0] is not '@' and 'https:' not in c)\n",
    "\n",
    "def clean_tweet(tweet):\n",
    "    return extract_mentions(extract_emojis(tweet))"
   ]
  },
  {
   "cell_type": "code",
   "execution_count": 5,
   "id": "ff57ca07",
   "metadata": {},
   "outputs": [],
   "source": [
    "API_key = \"ioitFb94uRpQ7Fb8BBwhJY1tV\"\n",
    "Secret_key = \"efPYENIZH0kM7nL5wACtxKCwfCiUBLME8b3r1owrf546u1kdZG\"\n",
    "Bearer_token = \"AAAAAAAAAAAAAAAAAAAAALdSWgEAAAAAy2gWysFURK0ya2LlPJoF6Jyb420%3DRD7FwDj05MLkdUySLhtVr0UmuABgzjsznDAzUhRadU3ewXMls1\"\n",
    "Access_token = \"1097951470715052033-wovvuLKe00EM66WLeh1OBZqWbYWXAa\"\n",
    "Access_secret = \"O13PdjF3x2rsuoFMgNdVbyGzeDvnfgRDJH7eU6RYvlX7w\""
   ]
  },
  {
   "cell_type": "code",
   "execution_count": 6,
   "id": "cf177049",
   "metadata": {},
   "outputs": [],
   "source": [
    "auth = tweepy.OAuthHandler(API_key, Secret_key)\n",
    "\n",
    "try:\n",
    "    redirect_url = auth.get_authorization_url()\n",
    "except tweepy.TweepyException:\n",
    "    print('Error! Failed to get request token.')"
   ]
  },
  {
   "cell_type": "code",
   "execution_count": 7,
   "id": "29aa8593",
   "metadata": {},
   "outputs": [],
   "source": [
    "api = tweepy.API(auth)"
   ]
  },
  {
   "cell_type": "code",
   "execution_count": 17,
   "id": "f414696c",
   "metadata": {},
   "outputs": [],
   "source": [
    "def comb_tweets(folder):\n",
    "    \n",
    "    five_G_T = []\n",
    "    five_G_F = []\n",
    "    flu_T = []\n",
    "    flu_F = []\n",
    "    genetic_T = []\n",
    "    genetic_F = []\n",
    "    \n",
    "    for filename in os.listdir(folder):\n",
    "        if filename.endswith(\".txt\"): \n",
    "            filepath = os.path.join(folder, filename)\n",
    "            print('Now on: ', filepath)\n",
    "            with open(filepath, 'r', encoding='UTF-8') as f:\n",
    "                for ID in f:\n",
    "                    try:\n",
    "                        status = api.get_status(ID, tweet_mode = 'extended')\n",
    "                    except tweepy.TweepyException:\n",
    "                        continue\n",
    "                    \n",
    "                    text = status._json['full_text']\n",
    "                    \n",
    "                    if re.search('(5G|tower|cellphone|wave)', text):\n",
    "                        print(text)\n",
    "                        to_add = input('Add to 5G? t/f')\n",
    "                        \n",
    "                        if to_add.lower() == 't':\n",
    "                            five_G_T.append(text)\n",
    "                        elif to_add.lower() == 'f':\n",
    "                            five_G_F.append(text)\n",
    "                            \n",
    "                    elif re.search('flu', text):\n",
    "                        print(text)\n",
    "                        to_add = input('Add to flu? t/f')\n",
    "                        \n",
    "                        if to_add.lower() == 't':\n",
    "                            flu_T.append(text)\n",
    "                        elif to_add.lower() == 'f':\n",
    "                            flu_F.append(text)\n",
    "                            \n",
    "                    elif re.search('genetic|engineer|manmade', text):\n",
    "                        print(text)\n",
    "                        to_add = input('Add to genetic? t/f')\n",
    "                        \n",
    "                        if to_add.lower() == 't':\n",
    "                            genetic_T.append(text)\n",
    "                        elif to_add.lower() == 'f':\n",
    "                            genetic_F.append(text)\n",
    "            \n",
    "        else:\n",
    "            continue\n",
    "            \n",
    "    return [five_G_T, five_G_F, flu_T, flu_F, genetic_T, genetic_F]"
   ]
  },
  {
   "cell_type": "code",
   "execution_count": 19,
   "id": "1907ef2a",
   "metadata": {},
   "outputs": [
    {
     "name": "stdout",
     "output_type": "stream",
     "text": [
      "Now on:  2020-05/coronavirus-tweet-id-2020-05-01-00.txt\n",
      "🎧🔌\n",
      "https://t.co/h4GhEV1zix\n",
      "\n",
      "#wavemurray #sakuraseason #romania #spotify #underground #LofiHipHop #futuristic #straykids #COVID19 #minsk #oslo #sadboys #boston #munich #berlin #germanrap #newmusic #spotifypremium1ヶ月無料 #korea\n",
      "Add to 5G? t/fh\n",
      "RT @LaLigaEN: Xavi, without a doubt, is one of the most influential midfielders in #LaLigaHistory. 🏆\n",
      "\n",
      "🗣️ @JimmyConrad is here to tell you m…\n",
      "Add to flu? t/fh\n",
      "RT @nofrills: BBC News - Coronavirus: US intelligence debunks theory it was 'manmade' https://t.co/zbGQmManqZ 米情報機関が新型コロナウイルスの「人工説」（陰謀論）を全否…\n"
     ]
    },
    {
     "ename": "KeyboardInterrupt",
     "evalue": "Interrupted by user",
     "output_type": "error",
     "traceback": [
      "\u001b[1;31m---------------------------------------------------------------------------\u001b[0m",
      "\u001b[1;31mKeyboardInterrupt\u001b[0m                         Traceback (most recent call last)",
      "\u001b[1;32m<ipython-input-19-ce2b556356d7>\u001b[0m in \u001b[0;36m<module>\u001b[1;34m\u001b[0m\n\u001b[1;32m----> 1\u001b[1;33m \u001b[0mtweets\u001b[0m \u001b[1;33m=\u001b[0m \u001b[0mcomb_tweets\u001b[0m\u001b[1;33m(\u001b[0m\u001b[1;34m'2020-05/'\u001b[0m\u001b[1;33m)\u001b[0m\u001b[1;33m\u001b[0m\u001b[1;33m\u001b[0m\u001b[0m\n\u001b[0m",
      "\u001b[1;32m<ipython-input-17-aefd6b091bd1>\u001b[0m in \u001b[0;36mcomb_tweets\u001b[1;34m(folder)\u001b[0m\n\u001b[0;32m     41\u001b[0m                     \u001b[1;32melif\u001b[0m \u001b[0mre\u001b[0m\u001b[1;33m.\u001b[0m\u001b[0msearch\u001b[0m\u001b[1;33m(\u001b[0m\u001b[1;34m'genetic|engineer|manmade'\u001b[0m\u001b[1;33m,\u001b[0m \u001b[0mtext\u001b[0m\u001b[1;33m)\u001b[0m\u001b[1;33m:\u001b[0m\u001b[1;33m\u001b[0m\u001b[1;33m\u001b[0m\u001b[0m\n\u001b[0;32m     42\u001b[0m                         \u001b[0mprint\u001b[0m\u001b[1;33m(\u001b[0m\u001b[0mtext\u001b[0m\u001b[1;33m)\u001b[0m\u001b[1;33m\u001b[0m\u001b[1;33m\u001b[0m\u001b[0m\n\u001b[1;32m---> 43\u001b[1;33m                         \u001b[0mto_add\u001b[0m \u001b[1;33m=\u001b[0m \u001b[0minput\u001b[0m\u001b[1;33m(\u001b[0m\u001b[1;34m'Add to genetic? t/f'\u001b[0m\u001b[1;33m)\u001b[0m\u001b[1;33m\u001b[0m\u001b[1;33m\u001b[0m\u001b[0m\n\u001b[0m\u001b[0;32m     44\u001b[0m \u001b[1;33m\u001b[0m\u001b[0m\n\u001b[0;32m     45\u001b[0m                         \u001b[1;32mif\u001b[0m \u001b[0mto_add\u001b[0m\u001b[1;33m.\u001b[0m\u001b[0mlower\u001b[0m\u001b[1;33m(\u001b[0m\u001b[1;33m)\u001b[0m \u001b[1;33m==\u001b[0m \u001b[1;34m't'\u001b[0m\u001b[1;33m:\u001b[0m\u001b[1;33m\u001b[0m\u001b[1;33m\u001b[0m\u001b[0m\n",
      "\u001b[1;32m~\\anaconda3\\envs\\tf3\\lib\\site-packages\\ipykernel\\kernelbase.py\u001b[0m in \u001b[0;36mraw_input\u001b[1;34m(self, prompt)\u001b[0m\n\u001b[0;32m    861\u001b[0m             \u001b[0mself\u001b[0m\u001b[1;33m.\u001b[0m\u001b[0m_parent_ident\u001b[0m\u001b[1;33m,\u001b[0m\u001b[1;33m\u001b[0m\u001b[1;33m\u001b[0m\u001b[0m\n\u001b[0;32m    862\u001b[0m             \u001b[0mself\u001b[0m\u001b[1;33m.\u001b[0m\u001b[0m_parent_header\u001b[0m\u001b[1;33m,\u001b[0m\u001b[1;33m\u001b[0m\u001b[1;33m\u001b[0m\u001b[0m\n\u001b[1;32m--> 863\u001b[1;33m             \u001b[0mpassword\u001b[0m\u001b[1;33m=\u001b[0m\u001b[1;32mFalse\u001b[0m\u001b[1;33m,\u001b[0m\u001b[1;33m\u001b[0m\u001b[1;33m\u001b[0m\u001b[0m\n\u001b[0m\u001b[0;32m    864\u001b[0m         )\n\u001b[0;32m    865\u001b[0m \u001b[1;33m\u001b[0m\u001b[0m\n",
      "\u001b[1;32m~\\anaconda3\\envs\\tf3\\lib\\site-packages\\ipykernel\\kernelbase.py\u001b[0m in \u001b[0;36m_input_request\u001b[1;34m(self, prompt, ident, parent, password)\u001b[0m\n\u001b[0;32m    902\u001b[0m             \u001b[1;32mexcept\u001b[0m \u001b[0mKeyboardInterrupt\u001b[0m\u001b[1;33m:\u001b[0m\u001b[1;33m\u001b[0m\u001b[1;33m\u001b[0m\u001b[0m\n\u001b[0;32m    903\u001b[0m                 \u001b[1;31m# re-raise KeyboardInterrupt, to truncate traceback\u001b[0m\u001b[1;33m\u001b[0m\u001b[1;33m\u001b[0m\u001b[1;33m\u001b[0m\u001b[0m\n\u001b[1;32m--> 904\u001b[1;33m                 \u001b[1;32mraise\u001b[0m \u001b[0mKeyboardInterrupt\u001b[0m\u001b[1;33m(\u001b[0m\u001b[1;34m\"Interrupted by user\"\u001b[0m\u001b[1;33m)\u001b[0m \u001b[1;32mfrom\u001b[0m \u001b[1;32mNone\u001b[0m\u001b[1;33m\u001b[0m\u001b[1;33m\u001b[0m\u001b[0m\n\u001b[0m\u001b[0;32m    905\u001b[0m             \u001b[1;32mexcept\u001b[0m \u001b[0mException\u001b[0m \u001b[1;32mas\u001b[0m \u001b[0me\u001b[0m\u001b[1;33m:\u001b[0m\u001b[1;33m\u001b[0m\u001b[1;33m\u001b[0m\u001b[0m\n\u001b[0;32m    906\u001b[0m                 \u001b[0mself\u001b[0m\u001b[1;33m.\u001b[0m\u001b[0mlog\u001b[0m\u001b[1;33m.\u001b[0m\u001b[0mwarning\u001b[0m\u001b[1;33m(\u001b[0m\u001b[1;34m\"Invalid Message:\"\u001b[0m\u001b[1;33m,\u001b[0m \u001b[0mexc_info\u001b[0m\u001b[1;33m=\u001b[0m\u001b[1;32mTrue\u001b[0m\u001b[1;33m)\u001b[0m\u001b[1;33m\u001b[0m\u001b[1;33m\u001b[0m\u001b[0m\n",
      "\u001b[1;31mKeyboardInterrupt\u001b[0m: Interrupted by user"
     ]
    }
   ],
   "source": [
    "tweets = comb_tweets('2020-05/')"
   ]
  },
  {
   "cell_type": "code",
   "execution_count": null,
   "id": "5a297f1e",
   "metadata": {},
   "outputs": [],
   "source": []
  }
 ],
 "metadata": {
  "kernelspec": {
   "display_name": "tf3",
   "language": "python",
   "name": "tf3"
  },
  "language_info": {
   "codemirror_mode": {
    "name": "ipython",
    "version": 3
   },
   "file_extension": ".py",
   "mimetype": "text/x-python",
   "name": "python",
   "nbconvert_exporter": "python",
   "pygments_lexer": "ipython3",
   "version": "3.6.12"
  }
 },
 "nbformat": 4,
 "nbformat_minor": 5
}
